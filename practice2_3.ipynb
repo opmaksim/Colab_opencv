{
  "nbformat": 4,
  "nbformat_minor": 0,
  "metadata": {
    "colab": {
      "provenance": [],
      "authorship_tag": "ABX9TyP/mu9RigI7gxk4mRR/yFuD",
      "include_colab_link": true
    },
    "kernelspec": {
      "name": "python3",
      "display_name": "Python 3"
    },
    "language_info": {
      "name": "python"
    }
  },
  "cells": [
    {
      "cell_type": "markdown",
      "metadata": {
        "id": "view-in-github",
        "colab_type": "text"
      },
      "source": [
        "<a href=\"https://colab.research.google.com/github/opmaksim/Colab_opencv/blob/main/practice2_3.ipynb\" target=\"_parent\"><img src=\"https://colab.research.google.com/assets/colab-badge.svg\" alt=\"Open In Colab\"/></a>"
      ]
    },
    {
      "cell_type": "code",
      "execution_count": null,
      "metadata": {
        "id": "pG7TZGnCyyUP"
      },
      "outputs": [],
      "source": [
        "from google.colab.patches import cv2_imshow\n",
        "import numpy as np\n",
        "import cv2\n",
        "import matplotlib.pyplot as plt\n",
        "\n",
        "from google.colab import drive\n",
        "\n",
        "drive.mount('/content/gdrive')\n",
        "#영상 불러오기\n",
        "origin_img = cv2.imread('/content/gdrive/My Drive/Image_Processing/lena.jpg')\n",
        "# BGR채널순서를 RGB채널로 변경\n",
        "RGB_img = cv2.cvtColor(origin_img, cv2.COLOR_BGR2RGB)\n",
        "# RGB채널을 YCrCb채널로 변경\n",
        "YCrCb_img = cv2.cvtColor(RGB_img, cv2.COLOR_RGB2YCrCb)\n",
        "# YCbCr 채널로 나누기\n",
        "Y_img, Cr_img, Cb_img = cv2.split(YCrCb_img)\n",
        "\n",
        "#그림을 화면에 출력\n",
        "plt.figure( figsize=(20,20) ) # 영상의 크기를 키워주자\n",
        "plt.subplot(1, 4, 1) # 1행 4열에서 1번째 열 plt.title(\"First image\")\n",
        "plt.title(\"Original Image\")\n",
        "plt.imshow(RGB_img)\n",
        "plt.axis(\"off\")\n",
        "plt.subplot(1, 4, 2) # 1행 4열에서 2번째 열\n",
        "RGB_img[:,:,0] = Y_img\n",
        "RGB_img[:,:,1] = Y_img\n",
        "RGB_img[:,:,2] = Y_img\n",
        "plt.title(\"Y Channel\")\n",
        "plt.imshow(RGB_img)\n",
        "plt.axis(\"off\")\n",
        "plt.subplot(1, 4, 3) # 1행 4열에서 3번째 열\n",
        "RGB_img[:,:,0] = Cr_img\n",
        "RGB_img[:,:,1] = Cr_img\n",
        "RGB_img[:,:,2] = Cr_img\n",
        "plt.title(\"Cr Channel\")\n",
        "plt.imshow(RGB_img)\n",
        "plt.axis(\"off\")\n",
        "plt.subplot(1, 4, 4) # 1행 4열에서 4번째 열\n",
        "RGB_img[:,:,0] = Cb_img\n",
        "RGB_img[:,:,1] = Cb_img\n",
        "RGB_img[:,:,2] = Cb_img\n",
        "plt.title(\"Cb Channel\")\n",
        "plt.imshow(RGB_img)\n",
        "plt.axis(\"off\")\n",
        "plt.show()\n",
        "YCrCb_img=cv2.merge((Y_img,Cr_img,Cb_img))\n",
        "RGB_img = cv2.cvtColor(YCrCb_img, cv2.COLOR_YCrCb2RGB)\n",
        "plt.title(\"Merged Image\")\n",
        "plt.imshow(RGB_img)"
      ]
    }
  ]
}